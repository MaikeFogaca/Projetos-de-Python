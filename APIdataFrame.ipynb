{
  "nbformat": 4,
  "nbformat_minor": 0,
  "metadata": {
    "colab": {
      "name": "APIdataFrame.ipynb",
      "provenance": [],
      "authorship_tag": "ABX9TyPGogRTqhz1m+YnEg6q6TYa",
      "include_colab_link": true
    },
    "kernelspec": {
      "name": "python3",
      "display_name": "Python 3"
    },
    "language_info": {
      "name": "python"
    }
  },
  "cells": [
    {
      "cell_type": "markdown",
      "metadata": {
        "id": "view-in-github",
        "colab_type": "text"
      },
      "source": [
        "<a href=\"https://colab.research.google.com/github/MaikeFogaca/Python-Projects/blob/main/APIdataFrame.ipynb\" target=\"_parent\"><img src=\"https://colab.research.google.com/assets/colab-badge.svg\" alt=\"Open In Colab\"/></a>"
      ]
    },
    {
      "cell_type": "markdown",
      "source": [
        "O exercício a ser desenvolvido para a presente unidade consiste em conectar-se a uma API. O Banco Central do Brasil disponibiliza dados a respeito de diversos indicadores econômicos do país. Sua tarefa será encontrar a série histórica relativa à inflação (IPCA) na plataforma de dados abertos do BC, importá-la e transformá-la em um DataFrame do Pandas."
      ],
      "metadata": {
        "id": "O3pGXtFtJoz1"
      }
    },
    {
      "cell_type": "markdown",
      "source": [
        "Identificando a API do BC que contém o IPCA\n"
      ],
      "metadata": {
        "id": "vHhecNSfJbL1"
      }
    },
    {
      "cell_type": "markdown",
      "source": [
        "Importando bibliotecas necessárias\n"
      ],
      "metadata": {
        "id": "IO3MO0IzJUiH"
      }
    },
    {
      "cell_type": "code",
      "execution_count": 4,
      "metadata": {
        "id": "DXX6aiYg4IWJ"
      },
      "outputs": [],
      "source": [
        "# Importando a bibliotca de importação\n",
        "import requests\n",
        "# Importando a bibliotca de leitura de json\n",
        "import json\n",
        "# Importando o pandas para criar o DF\n",
        "import pandas as pd"
      ]
    },
    {
      "cell_type": "markdown",
      "source": [
        "Coletando os dados\n"
      ],
      "metadata": {
        "id": "z8soUmZ6JwrS"
      }
    },
    {
      "cell_type": "code",
      "source": [
        "#armazenando a url do jason em uma variável temporária\n",
        "ipca = 'http://api.bcb.gov.br/dados/serie/bcdata.sgs.10844/dados?formato=json&dataInicial=01/01/2010&dataFinal=31/12/2016'\n",
        "\n",
        "#extraindo o conteúdo do json\n",
        "conteudo = requests.get(ipca).content\n",
        "\n",
        "#criando um dicionário com o conteúdo do json\n",
        "ipca_dict = json.loads(conteudo)\n",
        "\n",
        "print(ipca_dict)"
      ],
      "metadata": {
        "colab": {
          "base_uri": "https://localhost:8080/"
        },
        "id": "aj0ot--s4Mwn",
        "outputId": "f3e6e2ca-3054-4695-eb45-f98be7815c00"
      },
      "execution_count": 5,
      "outputs": [
        {
          "output_type": "stream",
          "name": "stdout",
          "text": [
            "[{'data': '01/01/2010', 'valor': '0.61'}, {'data': '01/02/2010', 'valor': '1.81'}, {'data': '01/03/2010', 'valor': '0.72'}, {'data': '01/04/2010', 'valor': '0.50'}, {'data': '01/05/2010', 'valor': '0.62'}, {'data': '01/06/2010', 'valor': '0.41'}, {'data': '01/07/2010', 'valor': '0.35'}, {'data': '01/08/2010', 'valor': '0.41'}, {'data': '01/09/2010', 'valor': '0.41'}, {'data': '01/10/2010', 'valor': '0.49'}, {'data': '01/11/2010', 'valor': '0.46'}, {'data': '01/12/2010', 'valor': '0.58'}, {'data': '01/01/2011', 'valor': '0.87'}, {'data': '01/02/2011', 'valor': '2.28'}, {'data': '01/03/2011', 'valor': '0.85'}, {'data': '01/04/2011', 'valor': '0.54'}, {'data': '01/05/2011', 'valor': '0.59'}, {'data': '01/06/2011', 'valor': '0.60'}, {'data': '01/07/2011', 'valor': '0.42'}, {'data': '01/08/2011', 'valor': '0.50'}, {'data': '01/09/2011', 'valor': '0.51'}, {'data': '01/10/2011', 'valor': '0.41'}, {'data': '01/11/2011', 'valor': '0.59'}, {'data': '01/12/2011', 'valor': '0.51'}, {'data': '01/01/2012', 'valor': '1.05'}, {'data': '01/02/2012', 'valor': '1.25'}, {'data': '01/03/2012', 'valor': '0.52'}, {'data': '01/04/2012', 'valor': '0.77'}, {'data': '01/05/2012', 'valor': '0.21'}, {'data': '01/06/2012', 'valor': '0.52'}, {'data': '01/07/2012', 'valor': '0.79'}, {'data': '01/08/2012', 'valor': '0.49'}, {'data': '01/09/2012', 'valor': '0.51'}, {'data': '01/10/2012', 'valor': '0.51'}, {'data': '01/11/2012', 'valor': '0.82'}, {'data': '01/12/2012', 'valor': '0.98'}, {'data': '01/01/2013', 'valor': '0.92'}, {'data': '01/02/2013', 'valor': '1.30'}, {'data': '01/03/2013', 'valor': '0.26'}, {'data': '01/04/2013', 'valor': '0.54'}, {'data': '01/05/2013', 'valor': '0.56'}, {'data': '01/06/2013', 'valor': '0.64'}, {'data': '01/07/2013', 'valor': '0.64'}, {'data': '01/08/2013', 'valor': '0.60'}, {'data': '01/09/2013', 'valor': '0.63'}, {'data': '01/10/2013', 'valor': '0.52'}, {'data': '01/11/2013', 'valor': '0.65'}, {'data': '01/12/2013', 'valor': '1.16'}, {'data': '01/01/2014', 'valor': '0.47'}, {'data': '01/02/2014', 'valor': '1.24'}, {'data': '01/03/2014', 'valor': '1.09'}, {'data': '01/04/2014', 'valor': '0.44'}, {'data': '01/05/2014', 'valor': '0.30'}, {'data': '01/06/2014', 'valor': '1.10'}, {'data': '01/07/2014', 'valor': '-0.05'}, {'data': '01/08/2014', 'valor': '0.59'}, {'data': '01/09/2014', 'valor': '0.77'}, {'data': '01/10/2014', 'valor': '0.43'}, {'data': '01/11/2014', 'valor': '0.46'}, {'data': '01/12/2014', 'valor': '1.20'}, {'data': '01/01/2015', 'valor': '0.87'}, {'data': '01/02/2015', 'valor': '1.07'}, {'data': '01/03/2015', 'valor': '0.58'}, {'data': '01/04/2015', 'valor': '0.72'}, {'data': '01/05/2015', 'valor': '0.20'}, {'data': '01/06/2015', 'valor': '0.79'}, {'data': '01/07/2015', 'valor': '0.54'}, {'data': '01/08/2015', 'valor': '0.32'}, {'data': '01/09/2015', 'valor': '0.67'}, {'data': '01/10/2015', 'valor': '0.62'}, {'data': '01/11/2015', 'valor': '0.46'}, {'data': '01/12/2015', 'valor': '0.97'}, {'data': '01/01/2016', 'valor': '0.66'}, {'data': '01/02/2016', 'valor': '1.05'}, {'data': '01/03/2016', 'valor': '0.24'}, {'data': '01/04/2016', 'valor': '0.58'}, {'data': '01/05/2016', 'valor': '0.37'}, {'data': '01/06/2016', 'valor': '0.33'}, {'data': '01/07/2016', 'valor': '0.62'}, {'data': '01/08/2016', 'valor': '0.59'}, {'data': '01/09/2016', 'valor': '0.33'}, {'data': '01/10/2016', 'valor': '0.47'}, {'data': '01/11/2016', 'valor': '0.41'}, {'data': '01/12/2016', 'valor': '0.65'}]\n"
          ]
        }
      ]
    },
    {
      "cell_type": "markdown",
      "source": [
        "Transformando os dados\n"
      ],
      "metadata": {
        "id": "7TsdY_xRJ0PQ"
      }
    },
    {
      "cell_type": "code",
      "source": [
        "# transformando o dicionário em DF\n",
        "df = pd.DataFrame(ipca_dict)\n",
        "print(df)"
      ],
      "metadata": {
        "id": "XMwLxgzLJ-M9",
        "outputId": "2b1db6d5-4e6b-4f81-adc6-79ecb46e8cbb",
        "colab": {
          "base_uri": "https://localhost:8080/"
        }
      },
      "execution_count": 6,
      "outputs": [
        {
          "output_type": "stream",
          "name": "stdout",
          "text": [
            "          data valor\n",
            "0   01/01/2010  0.61\n",
            "1   01/02/2010  1.81\n",
            "2   01/03/2010  0.72\n",
            "3   01/04/2010  0.50\n",
            "4   01/05/2010  0.62\n",
            "..         ...   ...\n",
            "79  01/08/2016  0.59\n",
            "80  01/09/2016  0.33\n",
            "81  01/10/2016  0.47\n",
            "82  01/11/2016  0.41\n",
            "83  01/12/2016  0.65\n",
            "\n",
            "[84 rows x 2 columns]\n"
          ]
        }
      ]
    }
  ]
}