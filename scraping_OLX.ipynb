{
  "nbformat": 4,
  "nbformat_minor": 0,
  "metadata": {
    "colab": {
      "name": " scraping_ML.ipynb",
      "provenance": [],
      "authorship_tag": "ABX9TyNvbcSq+HiCUI+D9gER1Kxe",
      "include_colab_link": true
    },
    "kernelspec": {
      "name": "python3",
      "display_name": "Python 3"
    },
    "language_info": {
      "name": "python"
    }
  },
  "cells": [
    {
      "cell_type": "markdown",
      "metadata": {
        "id": "view-in-github",
        "colab_type": "text"
      },
      "source": [
        "<a href=\"https://colab.research.google.com/github/MaikeFogaca/Python-Projects/blob/main/scraping_OLX.ipynb\" target=\"_parent\"><img src=\"https://colab.research.google.com/assets/colab-badge.svg\" alt=\"Open In Colab\"/></a>"
      ]
    },
    {
      "cell_type": "markdown",
      "source": [
        "Daremos início ao nosso estudo gerando um modelo de Machine Learning cujo objetivo é prever o valor do aluguel de imóveis localizados na cidade de Ponta Grossa PR.\n",
        "\n",
        "Análise Exploratória de Dados"
      ],
      "metadata": {
        "id": "a93U6dIDb86H"
      }
    },
    {
      "cell_type": "code",
      "source": [
        "from bs4 import BeautifulSoup\n",
        "import requests\n",
        "import pandas as pd\n",
        "from time import sleep\n",
        "import re\n",
        "import numpy as np"
      ],
      "metadata": {
        "id": "DQfkrqUdcAWr"
      },
      "execution_count": null,
      "outputs": []
    },
    {
      "cell_type": "code",
      "source": [
        "re_precos = '<span class=\"price__fraction\">(.*)</span>'\n",
        "re_quartos = r'\\| (.*) quarto'\n",
        "re_areas = '> (.*) m² '\n",
        "re_quarto_area_ausente = \"> (.*) quarto\""
      ],
      "metadata": {
        "id": "XgmWnT-_dfcE"
      },
      "execution_count": null,
      "outputs": []
    },
    {
      "cell_type": "code",
      "source": [
        "zonas = ['norte', 'sul', 'leste', 'oeste']\n",
        "paginas = ['', '_Desde_49', '_Desde_97', '_Desde_145', '_Desde_193', \n",
        "           '_Desde_241', '_Desde_289']\n",
        "dados = {'zona': [],\n",
        "         'quartos': [],\n",
        "         'area': [],\n",
        "         'preco': []}\n",
        "\n",
        "for zona in zonas:\n",
        "  for pagina in paginas:\n",
        "    url = f'https://imoveis.mercadolivre.com.br/apartamentos/aluguel/parana/ponta-grossa/'\n",
        "\n",
        "    c = requests.get(url).content\n",
        "    soup = BeautifulSoup(c, 'html.parser')\n",
        "\n",
        "    preco = soup.find_all(name='span', attrs={'class': 'price__fraction'})\n",
        "    atributos = soup.find_all(name='div', attrs={'class': 'item__attrs'})\n",
        "\n",
        "    for p in preco:\n",
        "      valor = re.findall(re_precos, str(p))[0]\n",
        "      dados['preco'].append(valor)\n",
        "    \n",
        "    for atributo in atributos:\n",
        "      n_quartos = re.findall(re_quartos, str(atributo))\n",
        "      area = re.findall(re_areas, str(atributo))\n",
        "\n",
        "      if n_quartos == []:\n",
        "        n_quartos = re.findall(re_quarto_area_ausente, str(atributo))\n",
        "        if n_quartos == []:\n",
        "          n_quartos = np.nan\n",
        "        else:\n",
        "          n_quartos = n_quartos[0]\n",
        "      else:\n",
        "        n_quartos = n_quartos[0]\n",
        "      dados['quartos'].append(n_quartos)\n",
        "\n",
        "      if area == []:\n",
        "        area = np.nan\n",
        "      else:\n",
        "        area = area[0]      \n",
        "      dados['area'].append(area)\n",
        "\n",
        "      dados['zona'].append(zona)\n",
        "    sleep(5)"
      ],
      "metadata": {
        "id": "GRMpNPJFdhzD"
      },
      "execution_count": null,
      "outputs": []
    },
    {
      "cell_type": "code",
      "source": [
        "df = pd.DataFrame(dados)"
      ],
      "metadata": {
        "id": "QLg7etVIdpH0"
      },
      "execution_count": null,
      "outputs": []
    },
    {
      "cell_type": "code",
      "source": [
        "df\n"
      ],
      "metadata": {
        "colab": {
          "base_uri": "https://localhost:8080/",
          "height": 49
        },
        "id": "Wwb1jloFdrBF",
        "outputId": "e5cad236-22fd-471b-cfdd-9cb22c273abf"
      },
      "execution_count": null,
      "outputs": [
        {
          "output_type": "execute_result",
          "data": {
            "text/plain": [
              "Empty DataFrame\n",
              "Columns: [zona, quartos, area, preco]\n",
              "Index: []"
            ],
            "text/html": [
              "\n",
              "  <div id=\"df-54e84075-9711-4066-85dd-98e7651388fc\">\n",
              "    <div class=\"colab-df-container\">\n",
              "      <div>\n",
              "<style scoped>\n",
              "    .dataframe tbody tr th:only-of-type {\n",
              "        vertical-align: middle;\n",
              "    }\n",
              "\n",
              "    .dataframe tbody tr th {\n",
              "        vertical-align: top;\n",
              "    }\n",
              "\n",
              "    .dataframe thead th {\n",
              "        text-align: right;\n",
              "    }\n",
              "</style>\n",
              "<table border=\"1\" class=\"dataframe\">\n",
              "  <thead>\n",
              "    <tr style=\"text-align: right;\">\n",
              "      <th></th>\n",
              "      <th>zona</th>\n",
              "      <th>quartos</th>\n",
              "      <th>area</th>\n",
              "      <th>preco</th>\n",
              "    </tr>\n",
              "  </thead>\n",
              "  <tbody>\n",
              "  </tbody>\n",
              "</table>\n",
              "</div>\n",
              "      <button class=\"colab-df-convert\" onclick=\"convertToInteractive('df-54e84075-9711-4066-85dd-98e7651388fc')\"\n",
              "              title=\"Convert this dataframe to an interactive table.\"\n",
              "              style=\"display:none;\">\n",
              "        \n",
              "  <svg xmlns=\"http://www.w3.org/2000/svg\" height=\"24px\"viewBox=\"0 0 24 24\"\n",
              "       width=\"24px\">\n",
              "    <path d=\"M0 0h24v24H0V0z\" fill=\"none\"/>\n",
              "    <path d=\"M18.56 5.44l.94 2.06.94-2.06 2.06-.94-2.06-.94-.94-2.06-.94 2.06-2.06.94zm-11 1L8.5 8.5l.94-2.06 2.06-.94-2.06-.94L8.5 2.5l-.94 2.06-2.06.94zm10 10l.94 2.06.94-2.06 2.06-.94-2.06-.94-.94-2.06-.94 2.06-2.06.94z\"/><path d=\"M17.41 7.96l-1.37-1.37c-.4-.4-.92-.59-1.43-.59-.52 0-1.04.2-1.43.59L10.3 9.45l-7.72 7.72c-.78.78-.78 2.05 0 2.83L4 21.41c.39.39.9.59 1.41.59.51 0 1.02-.2 1.41-.59l7.78-7.78 2.81-2.81c.8-.78.8-2.07 0-2.86zM5.41 20L4 18.59l7.72-7.72 1.47 1.35L5.41 20z\"/>\n",
              "  </svg>\n",
              "      </button>\n",
              "      \n",
              "  <style>\n",
              "    .colab-df-container {\n",
              "      display:flex;\n",
              "      flex-wrap:wrap;\n",
              "      gap: 12px;\n",
              "    }\n",
              "\n",
              "    .colab-df-convert {\n",
              "      background-color: #E8F0FE;\n",
              "      border: none;\n",
              "      border-radius: 50%;\n",
              "      cursor: pointer;\n",
              "      display: none;\n",
              "      fill: #1967D2;\n",
              "      height: 32px;\n",
              "      padding: 0 0 0 0;\n",
              "      width: 32px;\n",
              "    }\n",
              "\n",
              "    .colab-df-convert:hover {\n",
              "      background-color: #E2EBFA;\n",
              "      box-shadow: 0px 1px 2px rgba(60, 64, 67, 0.3), 0px 1px 3px 1px rgba(60, 64, 67, 0.15);\n",
              "      fill: #174EA6;\n",
              "    }\n",
              "\n",
              "    [theme=dark] .colab-df-convert {\n",
              "      background-color: #3B4455;\n",
              "      fill: #D2E3FC;\n",
              "    }\n",
              "\n",
              "    [theme=dark] .colab-df-convert:hover {\n",
              "      background-color: #434B5C;\n",
              "      box-shadow: 0px 1px 3px 1px rgba(0, 0, 0, 0.15);\n",
              "      filter: drop-shadow(0px 1px 2px rgba(0, 0, 0, 0.3));\n",
              "      fill: #FFFFFF;\n",
              "    }\n",
              "  </style>\n",
              "\n",
              "      <script>\n",
              "        const buttonEl =\n",
              "          document.querySelector('#df-54e84075-9711-4066-85dd-98e7651388fc button.colab-df-convert');\n",
              "        buttonEl.style.display =\n",
              "          google.colab.kernel.accessAllowed ? 'block' : 'none';\n",
              "\n",
              "        async function convertToInteractive(key) {\n",
              "          const element = document.querySelector('#df-54e84075-9711-4066-85dd-98e7651388fc');\n",
              "          const dataTable =\n",
              "            await google.colab.kernel.invokeFunction('convertToInteractive',\n",
              "                                                     [key], {});\n",
              "          if (!dataTable) return;\n",
              "\n",
              "          const docLinkHtml = 'Like what you see? Visit the ' +\n",
              "            '<a target=\"_blank\" href=https://colab.research.google.com/notebooks/data_table.ipynb>data table notebook</a>'\n",
              "            + ' to learn more about interactive tables.';\n",
              "          element.innerHTML = '';\n",
              "          dataTable['output_type'] = 'display_data';\n",
              "          await google.colab.output.renderOutput(dataTable, element);\n",
              "          const docLink = document.createElement('div');\n",
              "          docLink.innerHTML = docLinkHtml;\n",
              "          element.appendChild(docLink);\n",
              "        }\n",
              "      </script>\n",
              "    </div>\n",
              "  </div>\n",
              "  "
            ]
          },
          "metadata": {},
          "execution_count": 38
        }
      ]
    },
    {
      "cell_type": "code",
      "source": [
        "df['preco'] = df['preco'].map(lambda x: x.replace('.', ''))"
      ],
      "metadata": {
        "id": "z0xMb6Qjdu15"
      },
      "execution_count": null,
      "outputs": []
    },
    {
      "cell_type": "code",
      "source": [
        "df.head(10)\n"
      ],
      "metadata": {
        "colab": {
          "base_uri": "https://localhost:8080/",
          "height": 49
        },
        "id": "RmCaLnR1dyT7",
        "outputId": "007a72dc-000f-45b1-e56d-d7ff4143fbc3"
      },
      "execution_count": null,
      "outputs": [
        {
          "output_type": "execute_result",
          "data": {
            "text/plain": [
              "Empty DataFrame\n",
              "Columns: [zona, quartos, area, preco]\n",
              "Index: []"
            ],
            "text/html": [
              "\n",
              "  <div id=\"df-af0d4ac4-b641-4ef6-b6f3-4e687329ecb1\">\n",
              "    <div class=\"colab-df-container\">\n",
              "      <div>\n",
              "<style scoped>\n",
              "    .dataframe tbody tr th:only-of-type {\n",
              "        vertical-align: middle;\n",
              "    }\n",
              "\n",
              "    .dataframe tbody tr th {\n",
              "        vertical-align: top;\n",
              "    }\n",
              "\n",
              "    .dataframe thead th {\n",
              "        text-align: right;\n",
              "    }\n",
              "</style>\n",
              "<table border=\"1\" class=\"dataframe\">\n",
              "  <thead>\n",
              "    <tr style=\"text-align: right;\">\n",
              "      <th></th>\n",
              "      <th>zona</th>\n",
              "      <th>quartos</th>\n",
              "      <th>area</th>\n",
              "      <th>preco</th>\n",
              "    </tr>\n",
              "  </thead>\n",
              "  <tbody>\n",
              "  </tbody>\n",
              "</table>\n",
              "</div>\n",
              "      <button class=\"colab-df-convert\" onclick=\"convertToInteractive('df-af0d4ac4-b641-4ef6-b6f3-4e687329ecb1')\"\n",
              "              title=\"Convert this dataframe to an interactive table.\"\n",
              "              style=\"display:none;\">\n",
              "        \n",
              "  <svg xmlns=\"http://www.w3.org/2000/svg\" height=\"24px\"viewBox=\"0 0 24 24\"\n",
              "       width=\"24px\">\n",
              "    <path d=\"M0 0h24v24H0V0z\" fill=\"none\"/>\n",
              "    <path d=\"M18.56 5.44l.94 2.06.94-2.06 2.06-.94-2.06-.94-.94-2.06-.94 2.06-2.06.94zm-11 1L8.5 8.5l.94-2.06 2.06-.94-2.06-.94L8.5 2.5l-.94 2.06-2.06.94zm10 10l.94 2.06.94-2.06 2.06-.94-2.06-.94-.94-2.06-.94 2.06-2.06.94z\"/><path d=\"M17.41 7.96l-1.37-1.37c-.4-.4-.92-.59-1.43-.59-.52 0-1.04.2-1.43.59L10.3 9.45l-7.72 7.72c-.78.78-.78 2.05 0 2.83L4 21.41c.39.39.9.59 1.41.59.51 0 1.02-.2 1.41-.59l7.78-7.78 2.81-2.81c.8-.78.8-2.07 0-2.86zM5.41 20L4 18.59l7.72-7.72 1.47 1.35L5.41 20z\"/>\n",
              "  </svg>\n",
              "      </button>\n",
              "      \n",
              "  <style>\n",
              "    .colab-df-container {\n",
              "      display:flex;\n",
              "      flex-wrap:wrap;\n",
              "      gap: 12px;\n",
              "    }\n",
              "\n",
              "    .colab-df-convert {\n",
              "      background-color: #E8F0FE;\n",
              "      border: none;\n",
              "      border-radius: 50%;\n",
              "      cursor: pointer;\n",
              "      display: none;\n",
              "      fill: #1967D2;\n",
              "      height: 32px;\n",
              "      padding: 0 0 0 0;\n",
              "      width: 32px;\n",
              "    }\n",
              "\n",
              "    .colab-df-convert:hover {\n",
              "      background-color: #E2EBFA;\n",
              "      box-shadow: 0px 1px 2px rgba(60, 64, 67, 0.3), 0px 1px 3px 1px rgba(60, 64, 67, 0.15);\n",
              "      fill: #174EA6;\n",
              "    }\n",
              "\n",
              "    [theme=dark] .colab-df-convert {\n",
              "      background-color: #3B4455;\n",
              "      fill: #D2E3FC;\n",
              "    }\n",
              "\n",
              "    [theme=dark] .colab-df-convert:hover {\n",
              "      background-color: #434B5C;\n",
              "      box-shadow: 0px 1px 3px 1px rgba(0, 0, 0, 0.15);\n",
              "      filter: drop-shadow(0px 1px 2px rgba(0, 0, 0, 0.3));\n",
              "      fill: #FFFFFF;\n",
              "    }\n",
              "  </style>\n",
              "\n",
              "      <script>\n",
              "        const buttonEl =\n",
              "          document.querySelector('#df-af0d4ac4-b641-4ef6-b6f3-4e687329ecb1 button.colab-df-convert');\n",
              "        buttonEl.style.display =\n",
              "          google.colab.kernel.accessAllowed ? 'block' : 'none';\n",
              "\n",
              "        async function convertToInteractive(key) {\n",
              "          const element = document.querySelector('#df-af0d4ac4-b641-4ef6-b6f3-4e687329ecb1');\n",
              "          const dataTable =\n",
              "            await google.colab.kernel.invokeFunction('convertToInteractive',\n",
              "                                                     [key], {});\n",
              "          if (!dataTable) return;\n",
              "\n",
              "          const docLinkHtml = 'Like what you see? Visit the ' +\n",
              "            '<a target=\"_blank\" href=https://colab.research.google.com/notebooks/data_table.ipynb>data table notebook</a>'\n",
              "            + ' to learn more about interactive tables.';\n",
              "          element.innerHTML = '';\n",
              "          dataTable['output_type'] = 'display_data';\n",
              "          await google.colab.output.renderOutput(dataTable, element);\n",
              "          const docLink = document.createElement('div');\n",
              "          docLink.innerHTML = docLinkHtml;\n",
              "          element.appendChild(docLink);\n",
              "        }\n",
              "      </script>\n",
              "    </div>\n",
              "  </div>\n",
              "  "
            ]
          },
          "metadata": {},
          "execution_count": 40
        }
      ]
    },
    {
      "cell_type": "code",
      "source": [
        "df.to_csv('dados_imoveis.csv')"
      ],
      "metadata": {
        "id": "T21bwXOcio9N"
      },
      "execution_count": null,
      "outputs": []
    },
    {
      "cell_type": "markdown",
      "source": [
        ""
      ],
      "metadata": {
        "id": "nZkZjVWBq7m9"
      }
    },
    {
      "cell_type": "code",
      "source": [
        "import requests\n",
        "from bs4 import BeautifulSoup\n",
        "import re\n",
        "import numpy as np\n",
        "from time import sleep\n",
        "import pandas as pd\n",
        "\n",
        "zonas = ['norte', 'sul', 'leste', 'oeste']\n",
        "paginas = ['', '_Desde_49', '_Desde_97', '_Desde_145', '_Desde_193', '_Desde_241', '_Desde_289']\n",
        "url_ml = 'https://imoveis.mercadolivre.com.br/casas/aluguel/sao-paulo/sao-paulo-zona-{}/{}'\n",
        "\n",
        "re_precos = r'<span class=\"price-tag-fraction\">(.*)<'\n",
        "re_quartos = r'([1-9]{1,2}) quarto[s]?'\n",
        "re_areas = r'<li class=\"ui-search-card-attributes__attribute\">(.*) m²'\n",
        "\n",
        "\n",
        "class Scraper:\n",
        "    zonas = []\n",
        "    areas = []\n",
        "    quartos = []\n",
        "    precos = []\n",
        "    dados = {}\n",
        "\n",
        "    def __init__(self, url, zona, pagina):\n",
        "\n",
        "        self.zona = zona\n",
        "        self.url = url.format(zona, pagina)\n",
        "\n",
        "    def get_atributes(self):\n",
        "\n",
        "        c = requests.get(self.url).content\n",
        "        soup = BeautifulSoup(c, 'html.parser')\n",
        "\n",
        "        for dado in soup.select('.ui-search-result__content-wrapper'):\n",
        "            preco = dado.select_one('.price-tag-fraction')\n",
        "            metros = dado.select_one('.ui-search-card-attributes__attribute ')\n",
        "\n",
        "            precos = re.findall(re_precos, str(preco))\n",
        "            areas = re.findall(re_areas, str(metros))\n",
        "            quartos = re.findall(re_quartos, dado.text)\n",
        "\n",
        "            for p in precos:\n",
        "                if isinstance(p, str):\n",
        "                    p = int(p.replace('.', '').replace(',', '').strip())\n",
        "                    self.precos.append(p)\n",
        "\n",
        "            if len(areas) == 0:\n",
        "                areas.append(np.nan)\n",
        "            for a in areas:\n",
        "                if isinstance(a, str):\n",
        "                    a = int(a.replace('.', '').replace(',', '').strip())\n",
        "                self.areas.append(a)\n",
        "\n",
        "            if len(quartos) == 0:\n",
        "                quartos.append(np.nan)\n",
        "            for q in quartos:\n",
        "                self.quartos.append(q)\n",
        "\n",
        "            self.zonas.append(self.zona)\n",
        "\n",
        "            self.dados['zona'] = self.zonas\n",
        "            self.dados['quartos'] = self.quartos\n",
        "            self.dados['area'] = self.areas\n",
        "            self.dados['preco'] = self.precos\n",
        "\n",
        "        sleep(2)\n",
        "        return self.dados\n",
        "\n",
        "    def create_csv(self):\n",
        "        df = pd.DataFrame(self.dados)\n",
        "        df.to_csv('dados_imoveis.csv', index=False)\n",
        "\n",
        "\n",
        "if __name__ == '__main__':\n",
        "    for zona in zonas:\n",
        "        for pagina in paginas:\n",
        "            sleep(2)\n",
        "            scrap = Scraper(url_ml, zona, pagina)\n",
        "            scrap.get_atributes()\n",
        "            scrap.create_csv()"
      ],
      "metadata": {
        "id": "R8lBrmMJq75p",
        "colab": {
          "base_uri": "https://localhost:8080/",
          "height": 235
        },
        "outputId": "22c199e7-9b70-4bb9-c2c8-49c5e75bad9c"
      },
      "execution_count": null,
      "outputs": [
        {
          "output_type": "error",
          "ename": "KeyboardInterrupt",
          "evalue": "ignored",
          "traceback": [
            "\u001b[0;31m---------------------------------------------------------------------------\u001b[0m",
            "\u001b[0;31mKeyboardInterrupt\u001b[0m                         Traceback (most recent call last)",
            "\u001b[0;32m<ipython-input-42-d761e6e37986>\u001b[0m in \u001b[0;36m<module>\u001b[0;34m()\u001b[0m\n\u001b[1;32m     75\u001b[0m     \u001b[0;32mfor\u001b[0m \u001b[0mzona\u001b[0m \u001b[0;32min\u001b[0m \u001b[0mzonas\u001b[0m\u001b[0;34m:\u001b[0m\u001b[0;34m\u001b[0m\u001b[0;34m\u001b[0m\u001b[0m\n\u001b[1;32m     76\u001b[0m         \u001b[0;32mfor\u001b[0m \u001b[0mpagina\u001b[0m \u001b[0;32min\u001b[0m \u001b[0mpaginas\u001b[0m\u001b[0;34m:\u001b[0m\u001b[0;34m\u001b[0m\u001b[0;34m\u001b[0m\u001b[0m\n\u001b[0;32m---> 77\u001b[0;31m             \u001b[0msleep\u001b[0m\u001b[0;34m(\u001b[0m\u001b[0;36m2\u001b[0m\u001b[0;34m)\u001b[0m\u001b[0;34m\u001b[0m\u001b[0;34m\u001b[0m\u001b[0m\n\u001b[0m\u001b[1;32m     78\u001b[0m             \u001b[0mscrap\u001b[0m \u001b[0;34m=\u001b[0m \u001b[0mScraper\u001b[0m\u001b[0;34m(\u001b[0m\u001b[0murl_ml\u001b[0m\u001b[0;34m,\u001b[0m \u001b[0mzona\u001b[0m\u001b[0;34m,\u001b[0m \u001b[0mpagina\u001b[0m\u001b[0;34m)\u001b[0m\u001b[0;34m\u001b[0m\u001b[0;34m\u001b[0m\u001b[0m\n\u001b[1;32m     79\u001b[0m             \u001b[0mscrap\u001b[0m\u001b[0;34m.\u001b[0m\u001b[0mget_atributes\u001b[0m\u001b[0;34m(\u001b[0m\u001b[0;34m)\u001b[0m\u001b[0;34m\u001b[0m\u001b[0;34m\u001b[0m\u001b[0m\n",
            "\u001b[0;31mKeyboardInterrupt\u001b[0m: "
          ]
        }
      ]
    }
  ]
}