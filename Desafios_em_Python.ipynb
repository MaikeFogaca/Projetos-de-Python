{
  "nbformat": 4,
  "nbformat_minor": 0,
  "metadata": {
    "colab": {
      "name": "Desafios em Python",
      "provenance": [],
      "authorship_tag": "ABX9TyNGnjGplDbMuYLjmGjXnsH8",
      "include_colab_link": true
    },
    "kernelspec": {
      "name": "python3",
      "display_name": "Python 3"
    },
    "language_info": {
      "name": "python"
    }
  },
  "cells": [
    {
      "cell_type": "markdown",
      "metadata": {
        "id": "view-in-github",
        "colab_type": "text"
      },
      "source": [
        "<a href=\"https://colab.research.google.com/github/MaikeFogaca/Python-Projects/blob/main/Desafios_em_Python.ipynb\" target=\"_parent\"><img src=\"https://colab.research.google.com/assets/colab-badge.svg\" alt=\"Open In Colab\"/></a>"
      ]
    },
    {
      "cell_type": "markdown",
      "source": [
        "1 - Escreva um programa em Python para contabilizar a quantidade de ocorrências de cada palavra."
      ],
      "metadata": {
        "id": "vZnXRLIr0w12"
      }
    },
    {
      "cell_type": "code",
      "source": [
        "list1 = [\n",
        "   'red', 'green', 'black', 'pink', 'black', 'white', 'black', 'eyes',\n",
        "   'white', 'black', 'orange', 'pink', 'pink', 'red', 'red', 'white', 'orange',\n",
        "   'white', \"black\", 'pink', 'green', 'green', 'pink', 'green', 'pink',\n",
        "   'white', 'orange', \"orange\", 'red'\n",
        "]\n",
        "\n",
        "print(\"quantidade de ocorrências de cada palavra: \", len(list1))"
      ],
      "metadata": {
        "colab": {
          "base_uri": "https://localhost:8080/"
        },
        "id": "LPivD3So02ou",
        "outputId": "82adb0f5-3dbf-4d10-c553-dfea795499f6"
      },
      "execution_count": null,
      "outputs": [
        {
          "output_type": "stream",
          "name": "stdout",
          "text": [
            "quantidade de ocorrências de cada palavra:  29\n"
          ]
        }
      ]
    },
    {
      "cell_type": "markdown",
      "source": [
        "2 - Escreva uma função que receba um número inteiro de horas e converta esse número para segundos."
      ],
      "metadata": {
        "id": "__MvABTv9qNB"
      }
    },
    {
      "cell_type": "code",
      "source": [
        "def convert(seconds): \n",
        "    seconds = seconds % (24 * 3600) \n",
        "    hour = seconds // 3600\n",
        "    seconds %= 3600\n",
        "    minutes = seconds // 60\n",
        "    seconds %= 60\n",
        "      \n",
        "    return \"%d:%02d:%02d\" % (hour, minutes, seconds) \n",
        "      \n",
        "n = 13\n",
        "print(convert(n)) "
      ],
      "metadata": {
        "colab": {
          "base_uri": "https://localhost:8080/"
        },
        "id": "gydZdcvv9yRZ",
        "outputId": "de6f2500-5803-40f9-d1bf-e6d09b149ee3"
      },
      "execution_count": null,
      "outputs": [
        {
          "output_type": "stream",
          "name": "stdout",
          "text": [
            "0:00:13\n"
          ]
        }
      ]
    },
    {
      "cell_type": "markdown",
      "source": [
        "3 - Escreva uma função que receba uma lista como entrada e retorne uma nova lista ordenada e sem valores duplicados.\n",
        "\n"
      ],
      "metadata": {
        "id": "QZg0cjbqA-bv"
      }
    },
    {
      "cell_type": "code",
      "source": [
        "numeros = (input(\"Digite uma lista com números inteiros ex:'1','3'... : \"))\n",
        "list = numeros.split()   \n",
        "\n",
        "print(\"Você digitou os seguintes números : \")\n",
        "print(list)\n",
        "\n",
        "def remove_repetidos(list):\n",
        "\n",
        "    sorted(set(list)) \n",
        "    print(\"O resultado é\")\n",
        "    print()\n",
        "    print( sorted(set(list)))\n",
        "\n",
        "remove_repetidos(list)"
      ],
      "metadata": {
        "colab": {
          "base_uri": "https://localhost:8080/"
        },
        "id": "OWYYuQ1KBBm5",
        "outputId": "dac6021f-e2a2-4443-de83-2da433dcdba0"
      },
      "execution_count": null,
      "outputs": [
        {
          "output_type": "stream",
          "name": "stdout",
          "text": [
            "Digite uma lista com números inteiros ex:'1','3'... : 1, 3, 1, 2, 4, 6\n",
            "Você digitou os seguintes números : \n",
            "['1,', '3,', '1,', '2,', '4,', '6']\n",
            "O resultado é\n",
            "\n",
            "['1,', '2,', '3,', '4,', '6']\n"
          ]
        }
      ]
    },
    {
      "cell_type": "markdown",
      "source": [
        "4 - Escreva uma função cuja entrada é uma string e a saída é outra string com as palavras em ordem inversa.\n",
        "\n",
        "Exemplo:\n",
        "\n",
        "inverte_texto(\"Python é legal\") ➞ \"legal é Python\""
      ],
      "metadata": {
        "id": "5qovehsYEyOx"
      }
    },
    {
      "cell_type": "code",
      "source": [
        "str = \"Python é legal\"\n",
        "string_reversed=[]\n",
        "i = len(str)\n",
        "while i > 0: \n",
        "    string_reversed += str[i-1]\n",
        "    i = i - 1 # decrement index\n",
        "print(\"ao contrario\", string_reversed)"
      ],
      "metadata": {
        "colab": {
          "base_uri": "https://localhost:8080/"
        },
        "id": "zyX7N3JDKoYa",
        "outputId": "fa5e813d-092b-4528-916c-a3b2cafe3e14"
      },
      "execution_count": null,
      "outputs": [
        {
          "output_type": "stream",
          "name": "stdout",
          "text": [
            "ao contrario ['l', 'a', 'g', 'e', 'l', ' ', 'é', ' ', 'n', 'o', 'h', 't', 'y', 'P']\n"
          ]
        }
      ]
    },
    {
      "cell_type": "markdown",
      "source": [
        "5 - Você trabalha em uma loja de sapatos e deve contatar uma série de clientes. Seus números de telefone estão na lista abaixo. No entanto, é possível notar números duplicados na lista dada. Você seria capaz de remover estes duplicados para evitar que clientes sejam contatados mais de uma vez?"
      ],
      "metadata": {
        "id": "_ftYGI0rrSfA"
      }
    },
    {
      "cell_type": "code",
      "source": [
        "def remove_repetidos(lista):\n",
        "    l = []\n",
        "    for i in lista:\n",
        "        if i not in l:\n",
        "            l.append(i)\n",
        "    l.sort()\n",
        "    return l\n",
        "\n",
        "lista = ['(765) 368-1506',\n",
        "'(285) 608-2448',\n",
        "'(255) 826-9050',\n",
        "'(554) 994-1517',\n",
        "'(285) 608-2448',\n",
        "'(596) 336-5508',\n",
        "'(511) 821-7870',\n",
        "'(410) 665-4447',\n",
        "'(821) 642-8987',\n",
        "'(285) 608-2448',\n",
        "'(311) 799-3883',\n",
        "'(935) 875-2054',\n",
        "'(464) 788-2397',\n",
        "'(765) 368-1506',\n",
        "'(650) 684-1437',\n",
        "'(812) 816-0881',\n",
        "'(285) 608-2448',\n",
        "'(885) 407-1719',\n",
        "'(943) 769-1061',\n",
        "'(596) 336-5508',\n",
        "'(765) 368-1506',\n",
        "'(255) 826-9050',]\n",
        "\n",
        "lista = remove_repetidos(lista)\n",
        "print (lista)"
      ],
      "metadata": {
        "colab": {
          "base_uri": "https://localhost:8080/"
        },
        "id": "ymiY8W3HrWkO",
        "outputId": "f66b386f-218a-4a9c-ad71-8f6a62a8192f"
      },
      "execution_count": null,
      "outputs": [
        {
          "output_type": "stream",
          "name": "stdout",
          "text": [
            "['(255) 826-9050', '(285) 608-2448', '(311) 799-3883', '(410) 665-4447', '(464) 788-2397', '(511) 821-7870', '(554) 994-1517', '(596) 336-5508', '(650) 684-1437', '(765) 368-1506', '(812) 816-0881', '(821) 642-8987', '(885) 407-1719', '(935) 875-2054', '(943) 769-1061']\n"
          ]
        }
      ]
    },
    {
      "cell_type": "markdown",
      "source": [
        "6 - Crie uma função que receba duas listas e retorne uma lista que contenha apenas os elementos comuns entre as listas (sem repetição). A função deve suportar lista de tamanhos diferentes."
      ],
      "metadata": {
        "id": "UTi3-VZ7rW9I"
      }
    },
    {
      "cell_type": "code",
      "source": [
        ">>> list1 = [1, 2, 3, 3, 3, 4]\n",
        ">>> list2 = [5, 6, 7, 8]\n",
        ">>> result = list1 + list2\n",
        ">>> result\n",
        "[1, 2, 3, 4, 5, 6, 7, 8]\n"
      ],
      "metadata": {
        "colab": {
          "base_uri": "https://localhost:8080/"
        },
        "id": "lmr9nrSirbx7",
        "outputId": "abbe98ad-e408-426c-c1b8-e3c5ff3b4a40"
      },
      "execution_count": null,
      "outputs": [
        {
          "output_type": "execute_result",
          "data": {
            "text/plain": [
              "[1, 2, 3, 4, 5, 6, 7, 8]"
            ]
          },
          "metadata": {},
          "execution_count": 16
        }
      ]
    },
    {
      "cell_type": "markdown",
      "source": [
        "7 - Um professor de universidade tem uma turma com os seguintes números de telefones:"
      ],
      "metadata": {
        "id": "AVMyJNbRrcQt"
      }
    },
    {
      "cell_type": "code",
      "source": [
        "list_1 = ['(873) 810-8267', '(633) 244-7325', '(300) 303-5462', \n",
        "                    '(938) 300-8890', '(429) 264-7427', '(737) 805-2326', \n",
        "                    '(768) 956-8497', '(941) 225-3869', '(203) 606-9463', \n",
        "                    '(294) 430-7720', '(896) 781-5087', '(397) 845-8267', \n",
        "                    '(788) 717-6858', '(419) 734-4188', '(682) 595-3278', \n",
        "                    '(835) 955-1498', '(296) 415-9944', '(897) 932-2512', \n",
        "                    '(263) 415-3893', '(822) 640-8496', '(640) 427-2597', \n",
        "                    '(856) 338-7094', '(807) 554-4076', '(641) 367-5279', \n",
        "                    '(828) 866-0696', '(727) 376-5749', '(921) 948-2244', \n",
        "                    '(964) 710-9625', '(596) 685-1242', '(403) 343-7705', \n",
        "                    '(227) 389-3685', '(264) 372-7298', '(797) 649-3653', \n",
        "                    '(374) 361-3844', '(618) 490-4228', '(987) 803-5550', \n",
        "                    '(228) 976-9699', '(757) 450-9985', '(491) 666-5367',]\n",
        "list_2 = ['(596) 685-1242', '(727) 376-5749', '(987) 803-5550', \n",
        "                     '(633) 244-7325', '(828) 866-0696', '(263) 415-3893', \n",
        "                     '(203) 606-9463', '(296) 415-9944', '(419) 734-4188', \n",
        "                     '(618) 490-4228', '(682) 595-3278', '(938) 300-8890', \n",
        "                     '(264) 372-7298', '(768) 956-8497', '(737) 805-2326', \n",
        "                     '(788) 717-6858', '(228) 976-9699', '(896) 781-5087',\n",
        "                     '(374) 361-3844', '(921) 948-2244', '(807) 554-4076', \n",
        "                     '(822) 640-8496', '(227) 389-3685', '(429) 264-7427', \n",
        "                     '(397) 845-8267']\n",
        "\n",
        "difference_1 = set(list_1).difference(set(list_2))\n",
        "difference_2 = set(list_2).difference(set(list_1))\n",
        "\n",
        "list_difference = list(difference_1.union(difference_2))\n",
        "\n",
        "print(\"Alunos que ainda não entraram no grupo:\")\n",
        "print()\n",
        "print(list_difference)\n"
      ],
      "metadata": {
        "colab": {
          "base_uri": "https://localhost:8080/"
        },
        "id": "X0I3_VUErhuj",
        "outputId": "41f3bd8e-1dd1-42b6-d0a6-cb9f629394f6"
      },
      "execution_count": null,
      "outputs": [
        {
          "output_type": "stream",
          "name": "stdout",
          "text": [
            "Alunos que ainda não entraram no grupo:\n",
            "\n",
            "['(294) 430-7720', '(873) 810-8267', '(941) 225-3869', '(797) 649-3653', '(641) 367-5279', '(491) 666-5367', '(403) 343-7705', '(640) 427-2597', '(964) 710-9625', '(757) 450-9985', '(856) 338-7094', '(897) 932-2512', '(835) 955-1498', '(300) 303-5462']\n"
          ]
        }
      ]
    },
    {
      "cell_type": "markdown",
      "source": [
        "8 - Escreva um script Python para encontrar as 10 palavras mais longas em um arquivo de texto. O arquivo .txt está localizado na mesma pasta do projeto (texto.txt)."
      ],
      "metadata": {
        "id": "JjukrYNNriDI"
      }
    },
    {
      "cell_type": "code",
      "source": [
        "arquivo = open('texto.txt', 'r')\n",
        "\n",
        "maxstring = list(map(str, texto))\n",
        "\n",
        "print (max(maxstring))"
      ],
      "metadata": {
        "colab": {
          "base_uri": "https://localhost:8080/",
          "height": 235
        },
        "id": "9Suuqn-8TWBa",
        "outputId": "ec00e7e2-993b-4eb0-d39c-1cd3fc694c9b"
      },
      "execution_count": null,
      "outputs": [
        {
          "output_type": "error",
          "ename": "TypeError",
          "evalue": "ignored",
          "traceback": [
            "\u001b[0;31m---------------------------------------------------------------------------\u001b[0m",
            "\u001b[0;31mTypeError\u001b[0m                                 Traceback (most recent call last)",
            "\u001b[0;32m<ipython-input-168-8a8010c46f4f>\u001b[0m in \u001b[0;36m<module>\u001b[0;34m()\u001b[0m\n\u001b[1;32m      1\u001b[0m \u001b[0marquivo\u001b[0m \u001b[0;34m=\u001b[0m \u001b[0mopen\u001b[0m\u001b[0;34m(\u001b[0m\u001b[0;34m'texto.txt'\u001b[0m\u001b[0;34m,\u001b[0m \u001b[0;34m'r'\u001b[0m\u001b[0;34m)\u001b[0m\u001b[0;34m\u001b[0m\u001b[0;34m\u001b[0m\u001b[0m\n\u001b[1;32m      2\u001b[0m \u001b[0;34m\u001b[0m\u001b[0m\n\u001b[0;32m----> 3\u001b[0;31m \u001b[0mmaxstring\u001b[0m \u001b[0;34m=\u001b[0m \u001b[0mlist\u001b[0m\u001b[0;34m(\u001b[0m\u001b[0mmap\u001b[0m\u001b[0;34m(\u001b[0m\u001b[0mstr\u001b[0m\u001b[0;34m,\u001b[0m \u001b[0mtexto\u001b[0m\u001b[0;34m)\u001b[0m\u001b[0;34m)\u001b[0m\u001b[0;34m\u001b[0m\u001b[0;34m\u001b[0m\u001b[0m\n\u001b[0m\u001b[1;32m      4\u001b[0m \u001b[0;34m\u001b[0m\u001b[0m\n\u001b[1;32m      5\u001b[0m \u001b[0mprint\u001b[0m \u001b[0;34m(\u001b[0m\u001b[0mmax\u001b[0m\u001b[0;34m(\u001b[0m\u001b[0mmaxstring\u001b[0m\u001b[0;34m)\u001b[0m\u001b[0;34m)\u001b[0m\u001b[0;34m\u001b[0m\u001b[0;34m\u001b[0m\u001b[0m\n",
            "\u001b[0;31mTypeError\u001b[0m: 'list' object is not callable"
          ]
        }
      ]
    },
    {
      "cell_type": "markdown",
      "source": [
        "9 - Escreva uma função que retorne a soma dos múltiplos de 3 e 5 entre 0 e um número limite, que vai ser utilizado como parâmetro. \\ Por exemplo, se o limite for 20, ele retornará a soma de 3, 5, 6, 9, 10, 12, 15, 18, 20."
      ],
      "metadata": {
        "id": "sGr13u6ZrmXa"
      }
    },
    {
      "cell_type": "code",
      "source": [
        "n = int(input(\"Primeiro Multiplo:\"))\n",
        "a = int(input(\"Segundo Multiplo:\"))\n",
        "b = int(input(\"numero Limite:\"))\n",
        "\n",
        "for x in range(a, b):\n",
        "    if x % n == 0:\n",
        "        print(x)\n",
        "  "
      ],
      "metadata": {
        "colab": {
          "base_uri": "https://localhost:8080/"
        },
        "id": "6JCf9i3x90sn",
        "outputId": "863cdf1e-871e-4bf5-eb55-01b528de87aa"
      },
      "execution_count": null,
      "outputs": [
        {
          "output_type": "stream",
          "name": "stdout",
          "text": [
            "Primeiro Multiplo:3\n",
            "Segundo Multiplo:5\n",
            "numero Limite:20\n",
            "6\n",
            "9\n",
            "12\n",
            "15\n",
            "18\n"
          ]
        }
      ]
    },
    {
      "cell_type": "markdown",
      "source": [
        "10 - Dada uma lista, divida-a em 3 partes iguais e reverta a ordem de cada lista.\n",
        "\n",
        "Exemplo:\n",
        "\n",
        "Entrada: \\ sampleList = [11, 45, 8, 23, 14, 12, 78, 45, 89]\n",
        "\n",
        "Saída: \\ Parte 1 [8, 45, 11] \\ Parte 2 [12, 14, 23] \\ Parte 3 [89, 45, 78]"
      ],
      "metadata": {
        "id": "9V5Xzpikrqxz"
      }
    },
    {
      "cell_type": "code",
      "source": [
        "test_list = [11, 45, 8, 23, 14, 12, 78, 45, 89]\n",
        "\n",
        "n=3\n",
        "\n",
        "output=[test_list[i:i + n] for i in range(0, len(test_list), n)]\n",
        "print(output)\n",
        "print()\n",
        "print(\"Ordem Reversa:\")\n",
        "output.reverse()\n",
        "output\n",
        "\n"
      ],
      "metadata": {
        "colab": {
          "base_uri": "https://localhost:8080/"
        },
        "id": "HCtoRHJoruxa",
        "outputId": "17d12756-45e4-44ca-a395-e7c020631058"
      },
      "execution_count": null,
      "outputs": [
        {
          "output_type": "stream",
          "name": "stdout",
          "text": [
            "[[11, 45, 8], [23, 14, 12], [78, 45, 89]]\n",
            "\n",
            "Ordem Reversa:\n"
          ]
        },
        {
          "output_type": "execute_result",
          "data": {
            "text/plain": [
              "[[78, 45, 89], [23, 14, 12], [11, 45, 8]]"
            ]
          },
          "metadata": {},
          "execution_count": 68
        }
      ]
    },
    {
      "cell_type": "markdown",
      "source": [
        "11 - Dados uma sequência com n números inteiros, determinar quantos números da sequência são pares e quantos são ímpares.\\ Por exemplo, para a sequência\n",
        "\n",
        "6   2   7  -5   8  -4\n",
        "\n",
        "a sua função deve retornar o número 4 para o número de pares e 2 para o de ímpares.\\ A saída deve ser um tupla contendo primeiramente o número de pares e em seguida o número de ímpares.\\ Para o exemplo anterior, a saída seria (4, 2)."
      ],
      "metadata": {
        "id": "kvizACT8rvS2"
      }
    },
    {
      "cell_type": "code",
      "source": [
        ""
      ],
      "metadata": {
        "id": "sMCpyoxSrzEM"
      },
      "execution_count": null,
      "outputs": []
    },
    {
      "cell_type": "markdown",
      "source": [
        "12 - Escreva uma função em Python para verificar a validade de uma senha.\n",
        "\n",
        "A senha deve ter:\n",
        "\n",
        "Pelo menos 1 letra entre [a-z] e 1 letra entre [A-Z].\n",
        "Pelo menos 1 número entre [0-9].\n",
        "Pelo menos 1 caractere de [$ # @].\n",
        "Comprimento mínimo de 6 caracteres.\n",
        "Comprimento máximo de 16 caracteres.\n",
        "Entradas: \"12345678\", \"J3sus0\", \"#Te5t300\", \"J*90j12374\", \"Michheeul\", \"Monk3y6\"\n",
        "\n",
        "A saída deve ser a senha e um texto indicando se a senha é válida ou inválida:\n",
        "\n",
        "\"1234\" - Senha inválida\n",
        "\"Qw#1234\" - Senha válida"
      ],
      "metadata": {
        "id": "WvL2j7QyrzNc"
      }
    },
    {
      "cell_type": "code",
      "source": [
        "import re\n",
        " def test_password(password):\n",
        " \n",
        " min_number = 1\n",
        " min_upper_char = 1\n",
        " min_lower_char = 1\n",
        " min_special_char = 1\n",
        " min_len = 6\n",
        " max_len = 16\n",
        " \n",
        " if len(password) < min_len:\n",
        "     print(‘Tamanho minimo de:’, min_len)\n",
        " if len(password) >max_len:\n",
        "     print(‘Tamanho máximo de:’, max_len)\n",
        " if len(re.findall(r”[A-Z]”, password)) < min_upper_char:\n",
        "     print(‘Precisa conter maiúsculas!’, min_upper_char)\n",
        " if len(re.findall(r”[a-z]”, password)) < min_lower_char:\n",
        "     print(‘Precisa conter minúsculas!’, min_lower_char)\n",
        " if len(re.findall(r”[0–9]”, password)) < min_number:\n",
        "     print(‘Precisa conter números!’, min_number)\n",
        " if len(re.findall(r”[@#$]”, password)) < min_special_char:\n",
        "     print(‘Precisa conter caracteres especiais “@#$”’,       min_special_char)\n",
        " else:\n",
        "     print(‘senha validada’)\n",
        " \n",
        "test_password(“12345678”)\n",
        "test_password(“J3sus0”)\n",
        "test_password(“#Te5t300”)\n",
        "test_password(“J*90j12374”)\n",
        "test_password(“Michheeul”)\n",
        "test_password(“Monk3y6”)"
      ],
      "metadata": {
        "colab": {
          "base_uri": "https://localhost:8080/",
          "height": 130
        },
        "id": "mKZxxPZLDRcL",
        "outputId": "e8b38a40-60bb-4a4c-a299-91090f044623"
      },
      "execution_count": null,
      "outputs": [
        {
          "output_type": "error",
          "ename": "IndentationError",
          "evalue": "ignored",
          "traceback": [
            "\u001b[0;36m  File \u001b[0;32m\"<ipython-input-74-db62096d3e04>\"\u001b[0;36m, line \u001b[0;32m3\u001b[0m\n\u001b[0;31m    def hello(Senha):\u001b[0m\n\u001b[0m    ^\u001b[0m\n\u001b[0;31mIndentationError\u001b[0m\u001b[0;31m:\u001b[0m unexpected indent\n"
          ]
        }
      ]
    }
  ]
}