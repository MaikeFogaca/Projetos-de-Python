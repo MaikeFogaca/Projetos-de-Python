{
  "nbformat": 4,
  "nbformat_minor": 0,
  "metadata": {
    "colab": {
      "name": "DCproject.ipynb",
      "provenance": [],
      "authorship_tag": "ABX9TyM/eVCYmRCxEDXwzcXsrz+a",
      "include_colab_link": true
    },
    "kernelspec": {
      "name": "python3",
      "display_name": "Python 3"
    },
    "language_info": {
      "name": "python"
    }
  },
  "cells": [
    {
      "cell_type": "markdown",
      "metadata": {
        "id": "view-in-github",
        "colab_type": "text"
      },
      "source": [
        "<a href=\"https://colab.research.google.com/github/MaikeFogaca/Python-Projects/blob/main/DCproject.ipynb\" target=\"_parent\"><img src=\"https://colab.research.google.com/assets/colab-badge.svg\" alt=\"Open In Colab\"/></a>"
      ]
    },
    {
      "cell_type": "markdown",
      "source": [
        "### **Classificação de gênero com Python**\n"
      ],
      "metadata": {
        "id": "FSCIiupYpo9L"
      }
    },
    {
      "cell_type": "markdown",
      "source": [
        "### **Introdução à classificação de gênero**\n",
        "A classificação de gênero está ganhando cada vez mais atenção, pois o gênero contém informações ricas e diferenciadas sobre as atividades sociais de homens e mulheres. A classificação de gênero visa reconhecer o gênero de uma pessoa com base nas características que diferenciam masculinidade e feminilidade.\n",
        "\n",
        "No campo da inteligência artificial, a classificação de gênero é considerada uma das aplicações mais importantes do método de reconhecimento de padrões. Os avanços na pesquisa de classificação de gênero levaram a muitas aplicações potenciais.\n",
        "\n",
        "Por exemplo, um sistema de computador com funções de reconhecimento de gênero tem uma ampla gama de aplicações nas áreas de pesquisa básica e aplicada, incluindo interação humano-computador, indústria de segurança e vigilância, pesquisa demográfica, desenvolvimento de negócios, aplicativos móveis e videogames.\n",
        "\n",
        "Além disso, vários mecanismos são propostos para melhorar o desempenho do reconhecimento de gênero em termos de precisão e eficiência.\n",
        "\n",
        "Projeto de aprendizado de máquina sobre classificação de gênero com Python\n",
        "Agora, nesta seção, mostrarei um projeto de aprendizado de máquina sobre classificação de gênero com Python. Vamos começar com esta tarefa importando as bibliotecas Python necessárias:"
      ],
      "metadata": {
        "id": "VyIoIjetph5I"
      }
    },
    {
      "cell_type": "code",
      "source": [
        "import os\n",
        "from tensorflow.keras import layers\n",
        "from tensorflow.keras import Model\n",
        "from tensorflow.keras.preprocessing.image import ImageDataGenerator\n",
        "import tensorflow as tf"
      ],
      "metadata": {
        "id": "E5WrpPlvpvjE"
      },
      "execution_count": null,
      "outputs": []
    },
    {
      "cell_type": "markdown",
      "source": [
        "Agora vamos ler e importar o conjunto de dados de imagens que vamos usar para treinar um modelo de rede neural:"
      ],
      "metadata": {
        "id": "rdwGXMl5p2yK"
      }
    },
    {
      "cell_type": "code",
      "execution_count": null,
      "metadata": {
        "id": "ltwNlAZppUZm"
      },
      "outputs": [],
      "source": [
        "train_datagen = ImageDataGenerator(rescale = 1./255,\n",
        "\t  rotation_range=40,\n",
        "      width_shift_range=0.2,\n",
        "      height_shift_range=0.2,\n",
        "      shear_range=0.2,\n",
        "      zoom_range=0.2,\n",
        "      horizontal_flip=True,\n",
        "      fill_mode='nearest')\n",
        "\n",
        "\n",
        "test_datagen = ImageDataGenerator( rescale = 1.0/255)\n",
        "\n",
        "train_generator = train_datagen.flow_from_directory(\"gender-recognition-200k-images-celeba/Dataset/Train/\",\n",
        "                                                    batch_size =256 ,\n",
        "                                                    class_mode = 'binary', \n",
        "                                                    target_size = (64, 64))     \n",
        "\n",
        "validation_generator =  test_datagen.flow_from_directory( \"gender-recognition-200k-images-celeba/Dataset/Validation/\",\n",
        "                                                          batch_size  = 256,\n",
        "                                                          class_mode  = 'binary', \n",
        "                                                          target_size = (64, 64))"
      ]
    },
    {
      "cell_type": "markdown",
      "source": [
        "Agora precisamos treinar e compilar o modelo de rede neural para a tarefa de classificação de gênero com Python:"
      ],
      "metadata": {
        "id": "mIQ5V2UHp7Sf"
      }
    },
    {
      "cell_type": "code",
      "source": [
        "from keras.optimizers import Adam\n",
        "model = tf.keras.models.Sequential([\n",
        "    # 1st conv\n",
        "  tf.keras.layers.Conv2D(96, (11,11),strides=(4,4), activation='relu', input_shape=(64, 64, 3)),\n",
        "  tf.keras.layers.BatchNormalization(),\n",
        "  tf.keras.layers.MaxPooling2D(2, strides=(2,2)),\n",
        "    # 2nd conv\n",
        "  tf.keras.layers.Conv2D(256, (11,11),strides=(1,1), activation='relu',padding=\"same\"),\n",
        "  tf.keras.layers.BatchNormalization(),\n",
        "     # 3rd conv\n",
        "  tf.keras.layers.Conv2D(384, (3,3),strides=(1,1), activation='relu',padding=\"same\"),\n",
        "  tf.keras.layers.BatchNormalization(),\n",
        "    # 4th conv\n",
        "  tf.keras.layers.Conv2D(384, (3,3),strides=(1,1), activation='relu',padding=\"same\"),\n",
        "  tf.keras.layers.BatchNormalization(),\n",
        "    # 5th Conv\n",
        "  tf.keras.layers.Conv2D(256, (3, 3), strides=(1, 1), activation='relu',padding=\"same\"),\n",
        "  tf.keras.layers.BatchNormalization(),\n",
        "  tf.keras.layers.MaxPooling2D(2, strides=(2, 2)),\n",
        "  # To Flatten layer\n",
        "  tf.keras.layers.Flatten(),\n",
        "  # To FC layer 1\n",
        "  tf.keras.layers.Dense(4096, activation='relu'),\n",
        "  tf.keras.layers.Dropout(0.5),\n",
        "  #To FC layer 2\n",
        "  tf.keras.layers.Dense(4096, activation='relu'),\n",
        "  tf.keras.layers.Dropout(0.5),\n",
        "  tf.keras.layers.Dense(1, activation='sigmoid')\n",
        "  ])\n",
        "model.compile(\n",
        "    optimizer=Adam(lr=0.001),\n",
        "    loss='binary_crossentropy',\n",
        "    metrics=['accuracy']\n",
        "   )\n",
        "hist = model.fit_generator(generator=train_generator,\n",
        "                    validation_data=validation_generator,\n",
        "                    steps_per_epoch=256,\n",
        "                    validation_steps=256,\n",
        "                    epochs=50)"
      ],
      "metadata": {
        "id": "pXR5P9Osp8ro"
      },
      "execution_count": null,
      "outputs": []
    },
    {
      "cell_type": "markdown",
      "source": [
        "Antes de testar este modelo, vamos dar uma olhada no desempenho do modelo em termos de precisão:"
      ],
      "metadata": {
        "id": "cilvKySAp-ix"
      }
    },
    {
      "cell_type": "code",
      "source": [
        "import matplotlib.pyplot as plt\n",
        "acc = hist.history['accuracy']\n",
        "val_acc = hist.history['val_accuracy']\n",
        "loss = hist.history['loss']\n",
        "val_loss = hist.history['val_loss']\n",
        "\n",
        "epochs = range(len(acc))\n",
        "\n",
        "plt.plot(epochs, acc, 'r', label='Training accuracy')\n",
        "plt.plot(epochs, val_acc, 'b', label='Validation accuracy')\n",
        "plt.title('Training and validation accuracy')\n",
        "plt.legend(loc=0)\n",
        "plt.figure()\n",
        "plt.show()"
      ],
      "metadata": {
        "id": "o93O6WJDp_64"
      },
      "execution_count": null,
      "outputs": []
    },
    {
      "cell_type": "markdown",
      "source": [
        "Agora vamos testar nosso modelo de rede neural nos casos masculino e feminino:\n",
        "\n"
      ],
      "metadata": {
        "id": "yzb3zE9FqBma"
      }
    },
    {
      "cell_type": "code",
      "source": [
        "import numpy as np\n",
        "\n",
        "from keras.preprocessing import image\n",
        "# predicting images\n",
        "path = \"gender-recognition-200k-images-celeba/Dataset/Test/Female/160001.jpg\"\n",
        "img = image.load_img(path, target_size=(64, 64))\n",
        "x = image.img_to_array(img)\n",
        "x = np.expand_dims(x, axis=0)\n",
        "\n",
        "images = np.vstack([x])\n",
        "classes = model.predict(images, batch_size=1)\n",
        "print(classes[0])\n",
        "if classes[0]>0.5:\n",
        "    print(\"is a man\")\n",
        "else:\n",
        "    print( \" is a female\")\n",
        "plt.imshow(img)"
      ],
      "metadata": {
        "id": "AHQ1j4wVqGJ1"
      },
      "execution_count": null,
      "outputs": []
    },
    {
      "cell_type": "markdown",
      "source": [
        "Na saída acima, podemos ver que o modelo funciona muito bem. Espero que você tenha gostado deste artigo sobre Classificação de Gênero com a linguagem de programação Python. Sinta-se à vontade para fazer suas perguntas valiosas na seção de comentários abaixo."
      ],
      "metadata": {
        "id": "ZvYMWGIuqKQO"
      }
    }
  ]
}